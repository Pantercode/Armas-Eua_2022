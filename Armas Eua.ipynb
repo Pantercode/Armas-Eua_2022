#!/usr/bin/env python
# coding: utf-8

# In[189]:


import pandas as pd


# In[190]:


df = pd.read_csv(r'C:\\Users\\Home\\Desktop\\Estudos-geral\\Arquivos-estudos\\marcellestudos\\nics-firearm-background-checks.csv')


# In[191]:


def valorNone(df, col, texto):
    df[col][(df[col].isna()) | (df[col]=='') | (df[col]==' ')] = texto


# In[192]:


df


# In[193]:


df["permit_recheck"] = df["permit_recheck"].fillna("N/A")


# In[194]:


df["permit_recheck"]


# In[195]:


df = df.rename({"permit_recheck": "Verificação Nova"}, axis=1)


# In[196]:


df = df.rename({"month":"Mês"}, axis=1)
df = df.rename({"state":"Estado"}, axis=1)
df = df.rename({"permit":"Permição"}, axis=1)


# In[197]:


df["Mês"]


# In[198]:


df


# In[199]:


df = df.rename({"handgun": "Qts Armas"}, axis=1)
df = df.rename({"long_gun": "Armas Longas"}, axis=1)
df = df.rename({"other": "Outras Armas"}, axis=1)
df = df.rename({"multiple": "Multiplas Armas"}, axis=1)  
df = df.rename({"admin": "Adm"}, axis=1)


# In[200]:


df


# In[201]:


df["Outras Armas"] = df["Outras Armas"].fillna("N/A")


# In[202]:


df


# In[203]:


df = df.rename({"prepawn_handgun": "Revolver"}, axis=1)


# In[204]:


df


# In[206]:


df["Revolver"] = df["Revolver"].fillna("N/A")


# In[207]:


df.sample()


# In[208]:


df = df.rename({"returned_other": "Armas_Devolvidas"}, axis=1)


# In[209]:


df["Armas_Devolvidas"] = df["Armas_Devolvidas"].fillna("N/A")


# In[210]:


df


# In[211]:


df = df.rename({"rentals_handgun": "Armas Alugadas"}, axis=1)
df = df.rename({"rentals_long_gun": "Armas Longas Alugadas"}, axis=1)
df = df.rename({"private_sale_handgun": "Vendas Privadas"}, axis=1)
df = df.rename({"private_sale_long_gun": "Vendas Privadas Armas Longas"}, axis=1)
df = df.rename({"private_sale_other": "Vendas de Terceiros"}, axis=1)
df = df.rename({"return_to_seller_handgun": "Curtas Devolvidas ao Vendedor"}, axis=1)
df = df.rename({"return_to_seller_long_gun": "Longas Devolvidas ao Vendedor"}, axis=1)
df = df.rename({"return_to_seller_other": "Retorno de Outras"}, axis=1)
df = df.rename({"totals": "Total"}, axis=1)


# In[213]:


df["Armas Alugadas"] = df["Armas Alugadas"].fillna("N/A")
df["Armas Longas Alugadas"] = df["Armas Longas Alugadas"].fillna("N/A")
df["Vendas Privadas"] = df["Vendas Privadas"].fillna("N/A")
df["Vendas Privadas Armas Longas"] = df["Vendas Privadas Armas Longas"].fillna("N/A")
df["Vendas de Terceiros"] = df["Vendas de Terceiros"].fillna("N/A")
df["Curtas Devolvidas ao Vendedor"] = df["Curtas Devolvidas ao Vendedor"].fillna("N/A")
df["Longas Devolvidas ao Vendedor"] = df["Longas Devolvidas ao Vendedor"].fillna("N/A")
df["Retorno de Outras"] = df["Retorno de Outras"].fillna("N/A")
df["Total"] = df["Total"].fillna("N/A")


# In[214]:


df

